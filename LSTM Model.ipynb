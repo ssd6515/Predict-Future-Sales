{
 "cells": [
  {
   "cell_type": "markdown",
   "id": "2260fa75",
   "metadata": {},
   "source": [
    "# LSTM Model"
   ]
  },
  {
   "cell_type": "code",
   "execution_count": 1,
   "id": "8ada5a28",
   "metadata": {
    "scrolled": false
   },
   "outputs": [],
   "source": [
    "#imported python packages\n",
    "import numpy as np\n",
    "import pandas as pd\n",
    "from math import sqrt\n",
    "\n",
    "from sklearn.preprocessing import LabelEncoder\n",
    "\n",
    "import seaborn as sns\n",
    "import matplotlib.pyplot as plt\n",
    "%matplotlib inline\n",
    "\n",
    "from xgboost import XGBRegressor\n",
    "from xgboost import plot_importance\n",
    "import lightgbm as lgb\n",
    "from sklearn.metrics import roc_curve, auc\n",
    "from sklearn.metrics import mean_squared_error\n",
    "\n",
    "import time\n",
    "import joblib"
   ]
  },
  {
   "cell_type": "code",
   "execution_count": 2,
   "id": "9f443b80",
   "metadata": {
    "scrolled": true
   },
   "outputs": [
    {
     "name": "stderr",
     "output_type": "stream",
     "text": [
      "2022-12-13 11:35:47.128082: I tensorflow/core/platform/cpu_feature_guard.cc:193] This TensorFlow binary is optimized with oneAPI Deep Neural Network Library (oneDNN) to use the following CPU instructions in performance-critical operations:  AVX2 AVX512F AVX512_VNNI FMA\n",
      "To enable them in other operations, rebuild TensorFlow with the appropriate compiler flags.\n",
      "2022-12-13 11:35:47.344707: I tensorflow/core/util/util.cc:169] oneDNN custom operations are on. You may see slightly different numerical results due to floating-point round-off errors from different computation orders. To turn them off, set the environment variable `TF_ENABLE_ONEDNN_OPTS=0`.\n",
      "2022-12-13 11:35:47.393377: W tensorflow/stream_executor/platform/default/dso_loader.cc:64] Could not load dynamic library 'libcudart.so.11.0'; dlerror: libcudart.so.11.0: cannot open shared object file: No such file or directory\n",
      "2022-12-13 11:35:47.393392: I tensorflow/stream_executor/cuda/cudart_stub.cc:29] Ignore above cudart dlerror if you do not have a GPU set up on your machine.\n",
      "2022-12-13 11:35:47.427542: E tensorflow/stream_executor/cuda/cuda_blas.cc:2981] Unable to register cuBLAS factory: Attempting to register factory for plugin cuBLAS when one has already been registered\n",
      "2022-12-13 11:35:48.111983: W tensorflow/stream_executor/platform/default/dso_loader.cc:64] Could not load dynamic library 'libnvinfer.so.7'; dlerror: libnvinfer.so.7: cannot open shared object file: No such file or directory\n",
      "2022-12-13 11:35:48.112063: W tensorflow/stream_executor/platform/default/dso_loader.cc:64] Could not load dynamic library 'libnvinfer_plugin.so.7'; dlerror: libnvinfer_plugin.so.7: cannot open shared object file: No such file or directory\n",
      "2022-12-13 11:35:48.112068: W tensorflow/compiler/tf2tensorrt/utils/py_utils.cc:38] TF-TRT Warning: Cannot dlopen some TensorRT libraries. If you would like to use Nvidia GPU with TensorRT, please make sure the missing libraries mentioned above are installed properly.\n"
     ]
    }
   ],
   "source": [
    "from keras.models import Sequential\n",
    "from keras.layers import LSTM, Dense, Dropout\n",
    "from keras.optimizers import Adam"
   ]
  },
  {
   "cell_type": "code",
   "execution_count": 3,
   "id": "f154ea78",
   "metadata": {
    "scrolled": false
   },
   "outputs": [
    {
     "name": "stdout",
     "output_type": "stream",
     "text": [
      "<class 'pandas.core.frame.DataFrame'>\n",
      "RangeIndex: 3150047 entries, 0 to 3150046\n",
      "Data columns (total 28 columns):\n",
      " #   Column                          Dtype  \n",
      "---  ------                          -----  \n",
      " 0   date_block_num                  int64  \n",
      " 1   shop_id                         int64  \n",
      " 2   item_id                         int64  \n",
      " 3   item_price                      float64\n",
      " 4   item_cnt_day                    float64\n",
      " 5   revenue                         float64\n",
      " 6   item_cnt_month                  float64\n",
      " 7   city_code                       int64  \n",
      " 8   item_category_id                int64  \n",
      " 9   type_code                       int64  \n",
      " 10  subtype_code                    int64  \n",
      " 11  date_avg_item_cnt               float64\n",
      " 12  date_item_avg_item_cnt          float64\n",
      " 13  date_shop_avg_item_cnt          float64\n",
      " 14  date_cat_avg_item_cnt           float64\n",
      " 15  date_shop_cat_avg_item_cnt      float64\n",
      " 16  date_shop_type_avg_item_cnt     float64\n",
      " 17  date_shop_subtype_avg_item_cnt  float64\n",
      " 18  date_city_avg_item_cnt          float64\n",
      " 19  date_item_city_avg_item_cnt     float64\n",
      " 20  date_type_avg_item_cnt          float64\n",
      " 21  date_subtype_avg_item_cnt       float64\n",
      " 22  item_avg_item_price             float64\n",
      " 23  date_item_avg_item_price        float64\n",
      " 24  date_shop_revenue               float64\n",
      " 25  shop_avg_revenue                float64\n",
      " 26  delta_revenue                   float64\n",
      " 27  month                           int64  \n",
      "dtypes: float64(20), int64(8)\n",
      "memory usage: 672.9 MB\n"
     ]
    },
    {
     "data": {
      "text/html": [
       "<div>\n",
       "<style scoped>\n",
       "    .dataframe tbody tr th:only-of-type {\n",
       "        vertical-align: middle;\n",
       "    }\n",
       "\n",
       "    .dataframe tbody tr th {\n",
       "        vertical-align: top;\n",
       "    }\n",
       "\n",
       "    .dataframe thead th {\n",
       "        text-align: right;\n",
       "    }\n",
       "</style>\n",
       "<table border=\"1\" class=\"dataframe\">\n",
       "  <thead>\n",
       "    <tr style=\"text-align: right;\">\n",
       "      <th></th>\n",
       "      <th>date_block_num</th>\n",
       "      <th>shop_id</th>\n",
       "      <th>item_id</th>\n",
       "      <th>item_price</th>\n",
       "      <th>item_cnt_day</th>\n",
       "      <th>revenue</th>\n",
       "      <th>item_cnt_month</th>\n",
       "      <th>city_code</th>\n",
       "      <th>item_category_id</th>\n",
       "      <th>type_code</th>\n",
       "      <th>...</th>\n",
       "      <th>date_city_avg_item_cnt</th>\n",
       "      <th>date_item_city_avg_item_cnt</th>\n",
       "      <th>date_type_avg_item_cnt</th>\n",
       "      <th>date_subtype_avg_item_cnt</th>\n",
       "      <th>item_avg_item_price</th>\n",
       "      <th>date_item_avg_item_price</th>\n",
       "      <th>date_shop_revenue</th>\n",
       "      <th>shop_avg_revenue</th>\n",
       "      <th>delta_revenue</th>\n",
       "      <th>month</th>\n",
       "    </tr>\n",
       "  </thead>\n",
       "  <tbody>\n",
       "    <tr>\n",
       "      <th>0</th>\n",
       "      <td>0</td>\n",
       "      <td>59</td>\n",
       "      <td>22154</td>\n",
       "      <td>999.00</td>\n",
       "      <td>1.0</td>\n",
       "      <td>999.00</td>\n",
       "      <td>1.0</td>\n",
       "      <td>31</td>\n",
       "      <td>37</td>\n",
       "      <td>11</td>\n",
       "      <td>...</td>\n",
       "      <td>3.836</td>\n",
       "      <td>1.0</td>\n",
       "      <td>3.697</td>\n",
       "      <td>2.463</td>\n",
       "      <td>410.5</td>\n",
       "      <td>999.0</td>\n",
       "      <td>1633431.0</td>\n",
       "      <td>1292188.0</td>\n",
       "      <td>0.2642</td>\n",
       "      <td>0</td>\n",
       "    </tr>\n",
       "    <tr>\n",
       "      <th>1</th>\n",
       "      <td>0</td>\n",
       "      <td>25</td>\n",
       "      <td>2552</td>\n",
       "      <td>899.00</td>\n",
       "      <td>1.0</td>\n",
       "      <td>899.00</td>\n",
       "      <td>0.0</td>\n",
       "      <td>14</td>\n",
       "      <td>58</td>\n",
       "      <td>13</td>\n",
       "      <td>...</td>\n",
       "      <td>5.152</td>\n",
       "      <td>0.0</td>\n",
       "      <td>2.076</td>\n",
       "      <td>1.253</td>\n",
       "      <td>938.0</td>\n",
       "      <td>899.0</td>\n",
       "      <td>5376478.0</td>\n",
       "      <td>6185159.0</td>\n",
       "      <td>-0.1307</td>\n",
       "      <td>0</td>\n",
       "    </tr>\n",
       "    <tr>\n",
       "      <th>2</th>\n",
       "      <td>0</td>\n",
       "      <td>25</td>\n",
       "      <td>2552</td>\n",
       "      <td>899.00</td>\n",
       "      <td>-1.0</td>\n",
       "      <td>-899.00</td>\n",
       "      <td>0.0</td>\n",
       "      <td>14</td>\n",
       "      <td>58</td>\n",
       "      <td>13</td>\n",
       "      <td>...</td>\n",
       "      <td>5.152</td>\n",
       "      <td>0.0</td>\n",
       "      <td>2.076</td>\n",
       "      <td>1.253</td>\n",
       "      <td>938.0</td>\n",
       "      <td>899.0</td>\n",
       "      <td>5376478.0</td>\n",
       "      <td>6185159.0</td>\n",
       "      <td>-0.1307</td>\n",
       "      <td>0</td>\n",
       "    </tr>\n",
       "    <tr>\n",
       "      <th>3</th>\n",
       "      <td>0</td>\n",
       "      <td>25</td>\n",
       "      <td>2554</td>\n",
       "      <td>1709.05</td>\n",
       "      <td>1.0</td>\n",
       "      <td>1709.05</td>\n",
       "      <td>1.0</td>\n",
       "      <td>14</td>\n",
       "      <td>58</td>\n",
       "      <td>13</td>\n",
       "      <td>...</td>\n",
       "      <td>5.152</td>\n",
       "      <td>1.0</td>\n",
       "      <td>2.076</td>\n",
       "      <td>1.253</td>\n",
       "      <td>1709.0</td>\n",
       "      <td>1709.0</td>\n",
       "      <td>5376478.0</td>\n",
       "      <td>6185159.0</td>\n",
       "      <td>-0.1307</td>\n",
       "      <td>0</td>\n",
       "    </tr>\n",
       "    <tr>\n",
       "      <th>4</th>\n",
       "      <td>0</td>\n",
       "      <td>25</td>\n",
       "      <td>2555</td>\n",
       "      <td>1099.00</td>\n",
       "      <td>1.0</td>\n",
       "      <td>1099.00</td>\n",
       "      <td>1.0</td>\n",
       "      <td>14</td>\n",
       "      <td>56</td>\n",
       "      <td>13</td>\n",
       "      <td>...</td>\n",
       "      <td>5.152</td>\n",
       "      <td>1.0</td>\n",
       "      <td>2.076</td>\n",
       "      <td>1.226</td>\n",
       "      <td>1123.0</td>\n",
       "      <td>1099.0</td>\n",
       "      <td>5376478.0</td>\n",
       "      <td>6185159.0</td>\n",
       "      <td>-0.1307</td>\n",
       "      <td>0</td>\n",
       "    </tr>\n",
       "  </tbody>\n",
       "</table>\n",
       "<p>5 rows × 28 columns</p>\n",
       "</div>"
      ],
      "text/plain": [
       "   date_block_num  shop_id  item_id  item_price  item_cnt_day  revenue  \\\n",
       "0               0       59    22154      999.00           1.0   999.00   \n",
       "1               0       25     2552      899.00           1.0   899.00   \n",
       "2               0       25     2552      899.00          -1.0  -899.00   \n",
       "3               0       25     2554     1709.05           1.0  1709.05   \n",
       "4               0       25     2555     1099.00           1.0  1099.00   \n",
       "\n",
       "   item_cnt_month  city_code  item_category_id  type_code  ...  \\\n",
       "0             1.0         31                37         11  ...   \n",
       "1             0.0         14                58         13  ...   \n",
       "2             0.0         14                58         13  ...   \n",
       "3             1.0         14                58         13  ...   \n",
       "4             1.0         14                56         13  ...   \n",
       "\n",
       "   date_city_avg_item_cnt  date_item_city_avg_item_cnt  \\\n",
       "0                   3.836                          1.0   \n",
       "1                   5.152                          0.0   \n",
       "2                   5.152                          0.0   \n",
       "3                   5.152                          1.0   \n",
       "4                   5.152                          1.0   \n",
       "\n",
       "   date_type_avg_item_cnt  date_subtype_avg_item_cnt  item_avg_item_price  \\\n",
       "0                   3.697                      2.463                410.5   \n",
       "1                   2.076                      1.253                938.0   \n",
       "2                   2.076                      1.253                938.0   \n",
       "3                   2.076                      1.253               1709.0   \n",
       "4                   2.076                      1.226               1123.0   \n",
       "\n",
       "   date_item_avg_item_price  date_shop_revenue  shop_avg_revenue  \\\n",
       "0                     999.0          1633431.0         1292188.0   \n",
       "1                     899.0          5376478.0         6185159.0   \n",
       "2                     899.0          5376478.0         6185159.0   \n",
       "3                    1709.0          5376478.0         6185159.0   \n",
       "4                    1099.0          5376478.0         6185159.0   \n",
       "\n",
       "   delta_revenue  month  \n",
       "0         0.2642      0  \n",
       "1        -0.1307      0  \n",
       "2        -0.1307      0  \n",
       "3        -0.1307      0  \n",
       "4        -0.1307      0  \n",
       "\n",
       "[5 rows x 28 columns]"
      ]
     },
     "execution_count": 3,
     "metadata": {},
     "output_type": "execute_result"
    }
   ],
   "source": [
    "# imported training dataset\n",
    "train_df = pd.read_csv('train.csv')\n",
    "train_df.info()\n",
    "train_df.head()"
   ]
  },
  {
   "cell_type": "code",
   "execution_count": 4,
   "id": "28d077a5",
   "metadata": {},
   "outputs": [],
   "source": [
    "# dropped item_id as decided in vizualization notebook\n",
    "train_df.drop(['item_id'],axis=1,inplace=True)"
   ]
  },
  {
   "cell_type": "code",
   "execution_count": 5,
   "id": "63d46801",
   "metadata": {},
   "outputs": [],
   "source": [
    "# training, validation, and test dataset is created.\n",
    "X_train_df = train_df[train_df.date_block_num < 33].drop(['item_cnt_month'], axis=1)\n",
    "Y_train_df = train_df[train_df.date_block_num < 33]['item_cnt_month']\n",
    "X_valid = train_df[train_df.date_block_num == 33].drop(['item_cnt_month'], axis=1)\n",
    "Y_valid = train_df[train_df.date_block_num == 33]['item_cnt_month']\n",
    "X_test = train_df[train_df.date_block_num == 34].drop(['item_cnt_month'], axis=1)"
   ]
  },
  {
   "cell_type": "code",
   "execution_count": 6,
   "id": "9a029534",
   "metadata": {},
   "outputs": [],
   "source": [
    "# reshaping training, validation and test data for LSTM model\n",
    "X_train=X_train_df.values.reshape((X_train_df.shape[0],X_train_df.shape[1],1))\n",
    "X_valid=X_valid.values.reshape((X_valid.shape[0],X_valid.shape[1],1))\n",
    "\n",
    "Y_train=Y_train_df.values.reshape((Y_train_df.shape[0],1))\n",
    "Y_valid=Y_valid.values.reshape((Y_valid.shape[0],1))\n",
    "\n",
    "X_test=X_test.values.reshape((X_test.shape[0],X_test.shape[1],1))"
   ]
  },
  {
   "cell_type": "markdown",
   "id": "7ed3909c",
   "metadata": {},
   "source": [
    "### Attempt to create a lstm model after understanding the data"
   ]
  },
  {
   "cell_type": "code",
   "execution_count": 7,
   "id": "2ae7823e",
   "metadata": {},
   "outputs": [
    {
     "name": "stderr",
     "output_type": "stream",
     "text": [
      "2022-12-12 18:34:30.451598: I tensorflow/stream_executor/cuda/cuda_gpu_executor.cc:966] could not open file to read NUMA node: /sys/bus/pci/devices/0000:01:00.0/numa_node\n",
      "Your kernel may have been built without NUMA support.\n",
      "2022-12-12 18:34:30.453944: W tensorflow/stream_executor/platform/default/dso_loader.cc:64] Could not load dynamic library 'libcudart.so.11.0'; dlerror: libcudart.so.11.0: cannot open shared object file: No such file or directory\n",
      "2022-12-12 18:34:30.453975: W tensorflow/stream_executor/platform/default/dso_loader.cc:64] Could not load dynamic library 'libcublas.so.11'; dlerror: libcublas.so.11: cannot open shared object file: No such file or directory\n",
      "2022-12-12 18:34:30.454000: W tensorflow/stream_executor/platform/default/dso_loader.cc:64] Could not load dynamic library 'libcublasLt.so.11'; dlerror: libcublasLt.so.11: cannot open shared object file: No such file or directory\n",
      "2022-12-12 18:34:30.454026: W tensorflow/stream_executor/platform/default/dso_loader.cc:64] Could not load dynamic library 'libcufft.so.10'; dlerror: libcufft.so.10: cannot open shared object file: No such file or directory\n",
      "2022-12-12 18:34:30.454051: W tensorflow/stream_executor/platform/default/dso_loader.cc:64] Could not load dynamic library 'libcurand.so.10'; dlerror: libcurand.so.10: cannot open shared object file: No such file or directory\n",
      "2022-12-12 18:34:30.454075: W tensorflow/stream_executor/platform/default/dso_loader.cc:64] Could not load dynamic library 'libcusolver.so.11'; dlerror: libcusolver.so.11: cannot open shared object file: No such file or directory\n",
      "2022-12-12 18:34:30.454099: W tensorflow/stream_executor/platform/default/dso_loader.cc:64] Could not load dynamic library 'libcusparse.so.11'; dlerror: libcusparse.so.11: cannot open shared object file: No such file or directory\n",
      "2022-12-12 18:34:30.454123: W tensorflow/stream_executor/platform/default/dso_loader.cc:64] Could not load dynamic library 'libcudnn.so.8'; dlerror: libcudnn.so.8: cannot open shared object file: No such file or directory\n",
      "2022-12-12 18:34:30.454129: W tensorflow/core/common_runtime/gpu/gpu_device.cc:1934] Cannot dlopen some GPU libraries. Please make sure the missing libraries mentioned above are installed properly if you would like to use GPU. Follow the guide at https://www.tensorflow.org/install/gpu for how to download and setup the required libraries for your platform.\n",
      "Skipping registering GPU devices...\n",
      "2022-12-12 18:34:30.454746: I tensorflow/core/platform/cpu_feature_guard.cc:193] This TensorFlow binary is optimized with oneAPI Deep Neural Network Library (oneDNN) to use the following CPU instructions in performance-critical operations:  AVX2 AVX512F AVX512_VNNI FMA\n",
      "To enable them in other operations, rebuild TensorFlow with the appropriate compiler flags.\n"
     ]
    },
    {
     "name": "stdout",
     "output_type": "stream",
     "text": [
      "Model: \"sequential\"\n",
      "_________________________________________________________________\n",
      " Layer (type)                Output Shape              Param #   \n",
      "=================================================================\n",
      " lstm (LSTM)                 (None, 26, 16)            1152      \n",
      "                                                                 \n",
      " dropout (Dropout)           (None, 26, 16)            0         \n",
      "                                                                 \n",
      " lstm_1 (LSTM)               (None, 32)                6272      \n",
      "                                                                 \n",
      " dropout_1 (Dropout)         (None, 32)                0         \n",
      "                                                                 \n",
      " dense (Dense)               (None, 8)                 264       \n",
      "                                                                 \n",
      " dense_1 (Dense)             (None, 1)                 9         \n",
      "                                                                 \n",
      "=================================================================\n",
      "Total params: 7,697\n",
      "Trainable params: 7,697\n",
      "Non-trainable params: 0\n",
      "_________________________________________________________________\n",
      "None\n"
     ]
    }
   ],
   "source": [
    "# instantiate and add layers to the lstm model\n",
    "model_lstm = Sequential()\n",
    "model_lstm.add(LSTM(16, input_shape=(X_train.shape[1], X_train.shape[2]),return_sequences=True))\n",
    "model_lstm.add(Dropout(0.5))\n",
    "model_lstm.add(LSTM(32))\n",
    "model_lstm.add(Dropout(0.5))\n",
    "model_lstm.add(Dense(8))\n",
    "# activation is linear if not mentioned\n",
    "model_lstm.add(Dense(1))\n",
    "# compile the model\n",
    "model_lstm.compile(optimizer=\"adam\", loss='mse', metrics=[\"mse\"])\n",
    "print(model_lstm.summary())"
   ]
  },
  {
   "cell_type": "code",
   "execution_count": 8,
   "id": "f603eada",
   "metadata": {},
   "outputs": [
    {
     "name": "stdout",
     "output_type": "stream",
     "text": [
      "Epoch 1/10\n",
      "1408/1408 [==============================] - 196s 138ms/step - loss: 8.1728 - mse: 8.1728 - val_loss: 2.4289 - val_mse: 2.4289\n",
      "Epoch 2/10\n",
      "1408/1408 [==============================] - 250s 177ms/step - loss: 3.6018 - mse: 3.6018 - val_loss: 2.0237 - val_mse: 2.0237\n",
      "Epoch 3/10\n",
      "1408/1408 [==============================] - 247s 175ms/step - loss: 3.2452 - mse: 3.2452 - val_loss: 1.9895 - val_mse: 1.9895\n",
      "Epoch 4/10\n",
      "1408/1408 [==============================] - 248s 176ms/step - loss: 3.1110 - mse: 3.1110 - val_loss: 1.7772 - val_mse: 1.7772\n",
      "Epoch 5/10\n",
      "1408/1408 [==============================] - 242s 172ms/step - loss: 2.9890 - mse: 2.9890 - val_loss: 1.6393 - val_mse: 1.6393\n",
      "Epoch 6/10\n",
      "1408/1408 [==============================] - 241s 171ms/step - loss: 2.8933 - mse: 2.8933 - val_loss: 1.6727 - val_mse: 1.6727\n",
      "Epoch 7/10\n",
      "1408/1408 [==============================] - 240s 170ms/step - loss: 2.8190 - mse: 2.8190 - val_loss: 1.5300 - val_mse: 1.5300\n",
      "Epoch 8/10\n",
      "1408/1408 [==============================] - 263s 187ms/step - loss: 2.7653 - mse: 2.7653 - val_loss: 1.4794 - val_mse: 1.4794\n",
      "Epoch 9/10\n",
      "1408/1408 [==============================] - 256s 182ms/step - loss: 2.7212 - mse: 2.7212 - val_loss: 1.4506 - val_mse: 1.4506\n",
      "Epoch 10/10\n",
      "1408/1408 [==============================] - 259s 184ms/step - loss: 2.6816 - mse: 2.6816 - val_loss: 1.5930 - val_mse: 1.5930\n"
     ]
    }
   ],
   "source": [
    "# train the model\n",
    "hist = model_lstm.fit(X_train, Y_train,validation_data=(X_valid, Y_valid), batch_size=2048,verbose=1,\n",
    "              epochs=10)"
   ]
  },
  {
   "cell_type": "code",
   "execution_count": 9,
   "id": "7bd3c818",
   "metadata": {},
   "outputs": [
    {
     "name": "stdout",
     "output_type": "stream",
     "text": [
      "Optimal Epoch: {} 8\n",
      "Train Score: 2.721200704574585, Validation Score: 1.4505866765975952\n"
     ]
    }
   ],
   "source": [
    "# the optimal epoch for the model\n",
    "best = np.argmin(hist.history[\"val_loss\"])\n",
    "print(\"Optimal Epoch: {}\",best)\n",
    "# it is the lowest mean squared error for validation and its corresponding for train dataset\n",
    "print(\"Train Score: {}, Validation Score: {}\".format(hist.history[\"loss\"][best],hist.history[\"val_loss\"][best]))"
   ]
  },
  {
   "cell_type": "code",
   "execution_count": 10,
   "id": "3d198441",
   "metadata": {},
   "outputs": [
    {
     "data": {
      "text/plain": [
       "<matplotlib.legend.Legend at 0x7f084d7ceaf0>"
      ]
     },
     "execution_count": 10,
     "metadata": {},
     "output_type": "execute_result"
    },
    {
     "data": {
      "image/png": "[encoded data removed]",
      "text/plain": [
       "<Figure size 432x288 with 1 Axes>"
      ]
     },
     "metadata": {
      "needs_background": "light"
     },
     "output_type": "display_data"
    }
   ],
   "source": [
    "# plot for training and validation loss\n",
    "plt.plot(range(len(hist.history[\"loss\"])),hist.history[\"loss\"],label=\"Training Loss\")\n",
    "plt.plot(range(len(hist.history[\"val_loss\"])),hist.history[\"val_loss\"],label=\"Validation Loss\")\n",
    "plt.legend()"
   ]
  },
  {
   "cell_type": "code",
   "execution_count": 11,
   "id": "ce9cd216",
   "metadata": {},
   "outputs": [
    {
     "data": {
      "text/plain": [
       "<matplotlib.legend.Legend at 0x7f084d710c40>"
      ]
     },
     "execution_count": 11,
     "metadata": {},
     "output_type": "execute_result"
    },
    {
     "data": {
      "image/png": "[encoded data removed]",
      "text/plain": [
       "<Figure size 432x288 with 1 Axes>"
      ]
     },
     "metadata": {
      "needs_background": "light"
     },
     "output_type": "display_data"
    }
   ],
   "source": [
    "# plot for mean squared error and mean squared error for validation\n",
    "plt.plot(range(len(hist.history[\"mse\"])),hist.history[\"mse\"],label=\"Training mean_squared_error\")\n",
    "plt.plot(range(len(hist.history[\"val_mse\"])),hist.history[\"val_mse\"],label=\"Validation mean_squared_error\")\n",
    "plt.legend()"
   ]
  },
  {
   "cell_type": "markdown",
   "id": "eef8b6d5",
   "metadata": {},
   "source": [
    "#### validation loss/mse is consistently lower than the training loss/mse, the gap between them remains more or less the same size. It means the model is more accurate on the training model than validation or test."
   ]
  },
  {
   "cell_type": "code",
   "execution_count": 12,
   "id": "2f421df0",
   "metadata": {},
   "outputs": [
    {
     "name": "stdout",
     "output_type": "stream",
     "text": [
      "1673/1673 [==============================] - 10s 6ms/step - loss: 1.5930 - mse: 1.5930\n",
      "[1.5930320024490356, 1.5930320024490356]\n"
     ]
    }
   ],
   "source": [
    "# evaluate the validation data to get metrics of the model for validation data\n",
    "scores = model_lstm.evaluate(X_valid,Y_valid)\n",
    "print(scores)"
   ]
  },
  {
   "cell_type": "code",
   "execution_count": 13,
   "id": "5cb8bc69",
   "metadata": {},
   "outputs": [
    {
     "name": "stdout",
     "output_type": "stream",
     "text": [
      "1673/1673 [==============================] - 11s 6ms/step\n"
     ]
    }
   ],
   "source": [
    "# get the predictions for the validation data\n",
    "Y_pred = model_lstm.predict(X_valid)"
   ]
  },
  {
   "cell_type": "code",
   "execution_count": 14,
   "id": "eb80e780",
   "metadata": {},
   "outputs": [
    {
     "name": "stdout",
     "output_type": "stream",
     "text": [
      "LSTMModel RMSE = 1.2621537665315472\n"
     ]
    }
   ],
   "source": [
    "# RMSE metric for the predicted and actual data\n",
    "print('LSTMModel RMSE =', mean_squared_error(Y_valid, Y_pred,squared=False))"
   ]
  },
  {
   "cell_type": "code",
   "execution_count": 20,
   "id": "5c75a245",
   "metadata": {},
   "outputs": [
    {
     "name": "stderr",
     "output_type": "stream",
     "text": [
      "WARNING:absl:Found untraced functions such as lstm_cell_layer_call_fn, lstm_cell_layer_call_and_return_conditional_losses, lstm_cell_1_layer_call_fn, lstm_cell_1_layer_call_and_return_conditional_losses while saving (showing 4 of 4). These functions will not be directly callable after loading.\n"
     ]
    },
    {
     "name": "stdout",
     "output_type": "stream",
     "text": [
      "INFO:tensorflow:Assets written to: ram://de2a9785-5f1a-40b2-b10f-10bb7a467af7/assets\n"
     ]
    },
    {
     "name": "stderr",
     "output_type": "stream",
     "text": [
      "INFO:tensorflow:Assets written to: ram://de2a9785-5f1a-40b2-b10f-10bb7a467af7/assets\n"
     ]
    },
    {
     "data": {
      "text/plain": [
       "['lstm_model.joblib']"
      ]
     },
     "execution_count": 20,
     "metadata": {},
     "output_type": "execute_result"
    }
   ],
   "source": [
    "# Model saved\n",
    "filename = \"lstm_model.joblib\"\n",
    "joblib.dump(model_lstm, filename)"
   ]
  }
 ],
 "metadata": {
  "kernelspec": {
   "display_name": "Python 3 (ipykernel)",
   "language": "python",
   "name": "python3"
  },
  "language_info": {
   "codemirror_mode": {
    "name": "ipython",
    "version": 3
   },
   "file_extension": ".py",
   "mimetype": "text/x-python",
   "name": "python",
   "nbconvert_exporter": "python",
   "pygments_lexer": "ipython3",
   "version": "3.8.10"
  }
 },
 "nbformat": 4,
 "nbformat_minor": 5
}
