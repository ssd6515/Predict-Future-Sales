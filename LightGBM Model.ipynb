{
 "cells": [
  {
   "cell_type": "markdown",
   "id": "2260fa75",
   "metadata": {},
   "source": [
    "# LightGBM Model"
   ]
  },
  {
   "cell_type": "code",
   "execution_count": 1,
   "id": "8ada5a28",
   "metadata": {
    "scrolled": false
   },
   "outputs": [],
   "source": [
    "#imported python packages\n",
    "import numpy as np\n",
    "import pandas as pd\n",
    "from math import sqrt\n",
    "\n",
    "from sklearn.preprocessing import LabelEncoder\n",
    "\n",
    "import seaborn as sns\n",
    "import matplotlib.pyplot as plt\n",
    "%matplotlib inline\n",
    "\n",
    "from xgboost import XGBRegressor\n",
    "from xgboost import plot_importance\n",
    "import lightgbm as lgb\n",
    "from sklearn.metrics import roc_curve, auc\n",
    "from sklearn.metrics import mean_squared_error\n",
    "\n",
    "import time\n",
    "import pickle\n",
    "import joblib"
   ]
  },
  {
   "cell_type": "code",
   "execution_count": 2,
   "id": "0791c826",
   "metadata": {
    "scrolled": false
   },
   "outputs": [
    {
     "name": "stdout",
     "output_type": "stream",
     "text": [
      "<class 'pandas.core.frame.DataFrame'>\n",
      "RangeIndex: 3150047 entries, 0 to 3150046\n",
      "Data columns (total 28 columns):\n",
      " #   Column                          Dtype  \n",
      "---  ------                          -----  \n",
      " 0   date_block_num                  int64  \n",
      " 1   shop_id                         int64  \n",
      " 2   item_id                         int64  \n",
      " 3   item_price                      float64\n",
      " 4   item_cnt_day                    float64\n",
      " 5   revenue                         float64\n",
      " 6   item_cnt_month                  float64\n",
      " 7   city_code                       int64  \n",
      " 8   item_category_id                int64  \n",
      " 9   type_code                       int64  \n",
      " 10  subtype_code                    int64  \n",
      " 11  date_avg_item_cnt               float64\n",
      " 12  date_item_avg_item_cnt          float64\n",
      " 13  date_shop_avg_item_cnt          float64\n",
      " 14  date_cat_avg_item_cnt           float64\n",
      " 15  date_shop_cat_avg_item_cnt      float64\n",
      " 16  date_shop_type_avg_item_cnt     float64\n",
      " 17  date_shop_subtype_avg_item_cnt  float64\n",
      " 18  date_city_avg_item_cnt          float64\n",
      " 19  date_item_city_avg_item_cnt     float64\n",
      " 20  date_type_avg_item_cnt          float64\n",
      " 21  date_subtype_avg_item_cnt       float64\n",
      " 22  item_avg_item_price             float64\n",
      " 23  date_item_avg_item_price        float64\n",
      " 24  date_shop_revenue               float64\n",
      " 25  shop_avg_revenue                float64\n",
      " 26  delta_revenue                   float64\n",
      " 27  month                           int64  \n",
      "dtypes: float64(20), int64(8)\n",
      "memory usage: 672.9 MB\n"
     ]
    },
    {
     "data": {
      "text/html": [
       "<div>\n",
       "<style scoped>\n",
       "    .dataframe tbody tr th:only-of-type {\n",
       "        vertical-align: middle;\n",
       "    }\n",
       "\n",
       "    .dataframe tbody tr th {\n",
       "        vertical-align: top;\n",
       "    }\n",
       "\n",
       "    .dataframe thead th {\n",
       "        text-align: right;\n",
       "    }\n",
       "</style>\n",
       "<table border=\"1\" class=\"dataframe\">\n",
       "  <thead>\n",
       "    <tr style=\"text-align: right;\">\n",
       "      <th></th>\n",
       "      <th>date_block_num</th>\n",
       "      <th>shop_id</th>\n",
       "      <th>item_id</th>\n",
       "      <th>item_price</th>\n",
       "      <th>item_cnt_day</th>\n",
       "      <th>revenue</th>\n",
       "      <th>item_cnt_month</th>\n",
       "      <th>city_code</th>\n",
       "      <th>item_category_id</th>\n",
       "      <th>type_code</th>\n",
       "      <th>...</th>\n",
       "      <th>date_city_avg_item_cnt</th>\n",
       "      <th>date_item_city_avg_item_cnt</th>\n",
       "      <th>date_type_avg_item_cnt</th>\n",
       "      <th>date_subtype_avg_item_cnt</th>\n",
       "      <th>item_avg_item_price</th>\n",
       "      <th>date_item_avg_item_price</th>\n",
       "      <th>date_shop_revenue</th>\n",
       "      <th>shop_avg_revenue</th>\n",
       "      <th>delta_revenue</th>\n",
       "      <th>month</th>\n",
       "    </tr>\n",
       "  </thead>\n",
       "  <tbody>\n",
       "    <tr>\n",
       "      <th>0</th>\n",
       "      <td>0</td>\n",
       "      <td>59</td>\n",
       "      <td>22154</td>\n",
       "      <td>999.00</td>\n",
       "      <td>1.0</td>\n",
       "      <td>999.00</td>\n",
       "      <td>1.0</td>\n",
       "      <td>31</td>\n",
       "      <td>37</td>\n",
       "      <td>11</td>\n",
       "      <td>...</td>\n",
       "      <td>3.836</td>\n",
       "      <td>1.0</td>\n",
       "      <td>3.697</td>\n",
       "      <td>2.463</td>\n",
       "      <td>410.5</td>\n",
       "      <td>999.0</td>\n",
       "      <td>1633431.0</td>\n",
       "      <td>1292188.0</td>\n",
       "      <td>0.2642</td>\n",
       "      <td>0</td>\n",
       "    </tr>\n",
       "    <tr>\n",
       "      <th>1</th>\n",
       "      <td>0</td>\n",
       "      <td>25</td>\n",
       "      <td>2552</td>\n",
       "      <td>899.00</td>\n",
       "      <td>1.0</td>\n",
       "      <td>899.00</td>\n",
       "      <td>0.0</td>\n",
       "      <td>14</td>\n",
       "      <td>58</td>\n",
       "      <td>13</td>\n",
       "      <td>...</td>\n",
       "      <td>5.152</td>\n",
       "      <td>0.0</td>\n",
       "      <td>2.076</td>\n",
       "      <td>1.253</td>\n",
       "      <td>938.0</td>\n",
       "      <td>899.0</td>\n",
       "      <td>5376478.0</td>\n",
       "      <td>6185159.0</td>\n",
       "      <td>-0.1307</td>\n",
       "      <td>0</td>\n",
       "    </tr>\n",
       "    <tr>\n",
       "      <th>2</th>\n",
       "      <td>0</td>\n",
       "      <td>25</td>\n",
       "      <td>2552</td>\n",
       "      <td>899.00</td>\n",
       "      <td>-1.0</td>\n",
       "      <td>-899.00</td>\n",
       "      <td>0.0</td>\n",
       "      <td>14</td>\n",
       "      <td>58</td>\n",
       "      <td>13</td>\n",
       "      <td>...</td>\n",
       "      <td>5.152</td>\n",
       "      <td>0.0</td>\n",
       "      <td>2.076</td>\n",
       "      <td>1.253</td>\n",
       "      <td>938.0</td>\n",
       "      <td>899.0</td>\n",
       "      <td>5376478.0</td>\n",
       "      <td>6185159.0</td>\n",
       "      <td>-0.1307</td>\n",
       "      <td>0</td>\n",
       "    </tr>\n",
       "    <tr>\n",
       "      <th>3</th>\n",
       "      <td>0</td>\n",
       "      <td>25</td>\n",
       "      <td>2554</td>\n",
       "      <td>1709.05</td>\n",
       "      <td>1.0</td>\n",
       "      <td>1709.05</td>\n",
       "      <td>1.0</td>\n",
       "      <td>14</td>\n",
       "      <td>58</td>\n",
       "      <td>13</td>\n",
       "      <td>...</td>\n",
       "      <td>5.152</td>\n",
       "      <td>1.0</td>\n",
       "      <td>2.076</td>\n",
       "      <td>1.253</td>\n",
       "      <td>1709.0</td>\n",
       "      <td>1709.0</td>\n",
       "      <td>5376478.0</td>\n",
       "      <td>6185159.0</td>\n",
       "      <td>-0.1307</td>\n",
       "      <td>0</td>\n",
       "    </tr>\n",
       "    <tr>\n",
       "      <th>4</th>\n",
       "      <td>0</td>\n",
       "      <td>25</td>\n",
       "      <td>2555</td>\n",
       "      <td>1099.00</td>\n",
       "      <td>1.0</td>\n",
       "      <td>1099.00</td>\n",
       "      <td>1.0</td>\n",
       "      <td>14</td>\n",
       "      <td>56</td>\n",
       "      <td>13</td>\n",
       "      <td>...</td>\n",
       "      <td>5.152</td>\n",
       "      <td>1.0</td>\n",
       "      <td>2.076</td>\n",
       "      <td>1.226</td>\n",
       "      <td>1123.0</td>\n",
       "      <td>1099.0</td>\n",
       "      <td>5376478.0</td>\n",
       "      <td>6185159.0</td>\n",
       "      <td>-0.1307</td>\n",
       "      <td>0</td>\n",
       "    </tr>\n",
       "  </tbody>\n",
       "</table>\n",
       "<p>5 rows × 28 columns</p>\n",
       "</div>"
      ],
      "text/plain": [
       "   date_block_num  shop_id  item_id  item_price  item_cnt_day  revenue  \\\n",
       "0               0       59    22154      999.00           1.0   999.00   \n",
       "1               0       25     2552      899.00           1.0   899.00   \n",
       "2               0       25     2552      899.00          -1.0  -899.00   \n",
       "3               0       25     2554     1709.05           1.0  1709.05   \n",
       "4               0       25     2555     1099.00           1.0  1099.00   \n",
       "\n",
       "   item_cnt_month  city_code  item_category_id  type_code  ...  \\\n",
       "0             1.0         31                37         11  ...   \n",
       "1             0.0         14                58         13  ...   \n",
       "2             0.0         14                58         13  ...   \n",
       "3             1.0         14                58         13  ...   \n",
       "4             1.0         14                56         13  ...   \n",
       "\n",
       "   date_city_avg_item_cnt  date_item_city_avg_item_cnt  \\\n",
       "0                   3.836                          1.0   \n",
       "1                   5.152                          0.0   \n",
       "2                   5.152                          0.0   \n",
       "3                   5.152                          1.0   \n",
       "4                   5.152                          1.0   \n",
       "\n",
       "   date_type_avg_item_cnt  date_subtype_avg_item_cnt  item_avg_item_price  \\\n",
       "0                   3.697                      2.463                410.5   \n",
       "1                   2.076                      1.253                938.0   \n",
       "2                   2.076                      1.253                938.0   \n",
       "3                   2.076                      1.253               1709.0   \n",
       "4                   2.076                      1.226               1123.0   \n",
       "\n",
       "   date_item_avg_item_price  date_shop_revenue  shop_avg_revenue  \\\n",
       "0                     999.0          1633431.0         1292188.0   \n",
       "1                     899.0          5376478.0         6185159.0   \n",
       "2                     899.0          5376478.0         6185159.0   \n",
       "3                    1709.0          5376478.0         6185159.0   \n",
       "4                    1099.0          5376478.0         6185159.0   \n",
       "\n",
       "   delta_revenue  month  \n",
       "0         0.2642      0  \n",
       "1        -0.1307      0  \n",
       "2        -0.1307      0  \n",
       "3        -0.1307      0  \n",
       "4        -0.1307      0  \n",
       "\n",
       "[5 rows x 28 columns]"
      ]
     },
     "execution_count": 2,
     "metadata": {},
     "output_type": "execute_result"
    }
   ],
   "source": [
    "# imported training dataset\n",
    "train_df = pd.read_csv('train.csv')\n",
    "train_df.info()\n",
    "train_df.head()"
   ]
  },
  {
   "cell_type": "code",
   "execution_count": 3,
   "id": "6305659a",
   "metadata": {},
   "outputs": [],
   "source": [
    "# dropped item_id as decided in vizualization notebook\n",
    "train_df.drop(['item_id'],axis=1,inplace=True)"
   ]
  },
  {
   "cell_type": "code",
   "execution_count": 4,
   "id": "63d46801",
   "metadata": {},
   "outputs": [],
   "source": [
    "# training, validation, and test dataset is created.\n",
    "X_train_df = train_df[train_df.date_block_num < 33].drop(['item_cnt_month'], axis=1)\n",
    "Y_train_df = train_df[train_df.date_block_num < 33]['item_cnt_month']\n",
    "X_valid = train_df[train_df.date_block_num == 33].drop(['item_cnt_month'], axis=1)\n",
    "Y_valid = train_df[train_df.date_block_num == 33]['item_cnt_month']\n",
    "X_test = train_df[train_df.date_block_num == 34].drop(['item_cnt_month'], axis=1)"
   ]
  },
  {
   "cell_type": "markdown",
   "id": "b1388f22",
   "metadata": {},
   "source": [
    "### Attempt to create a lightgbm model after understanding the data"
   ]
  },
  {
   "cell_type": "code",
   "execution_count": 5,
   "id": "f34934c3",
   "metadata": {},
   "outputs": [],
   "source": [
    "# parameters to train the model\n",
    "params = {'metric':'rmse',\n",
    "          'num_leaves':255,\n",
    "          'learning_rate':0.01,\n",
    "          'force_col_wise':True,\n",
    "          'random_state':10\n",
    "         }\n",
    "\n",
    "\n",
    "\n",
    "# LightGBM train & valid dataset\n",
    "dtrain = lgb.Dataset(X_train_df, Y_train_df)\n",
    "dvalid = lgb.Dataset(X_valid, Y_valid)"
   ]
  },
  {
   "cell_type": "code",
   "execution_count": 6,
   "id": "84c3883f",
   "metadata": {},
   "outputs": [
    {
     "name": "stderr",
     "output_type": "stream",
     "text": [
      "/home/shashwat/.local/lib/python3.8/site-packages/lightgbm/engine.py:239: UserWarning: 'verbose_eval' argument is deprecated and will be removed in a future release of LightGBM. Pass 'log_evaluation()' callback via 'callbacks' argument instead.\n",
      "  _log_warning(\"'verbose_eval' argument is deprecated and will be removed in a future release of LightGBM. \"\n"
     ]
    },
    {
     "name": "stdout",
     "output_type": "stream",
     "text": [
      "[LightGBM] [Info] Total Bins 4497\n",
      "[LightGBM] [Info] Number of data points in the train set: 2882334, number of used features: 26\n",
      "[LightGBM] [Info] Start training from score 4.606248\n",
      "[50]\ttraining's rmse: 3.40456\tvalid_1's rmse: 3.27562\n",
      "[100]\ttraining's rmse: 2.2838\tvalid_1's rmse: 2.20594\n",
      "[150]\ttraining's rmse: 1.67263\tvalid_1's rmse: 1.62693\n",
      "[200]\ttraining's rmse: 1.36189\tvalid_1's rmse: 1.33789\n",
      "[250]\ttraining's rmse: 1.21306\tvalid_1's rmse: 1.20237\n",
      "[300]\ttraining's rmse: 1.14055\tvalid_1's rmse: 1.13781\n",
      "[350]\ttraining's rmse: 1.10072\tvalid_1's rmse: 1.10657\n",
      "[400]\ttraining's rmse: 1.0768\tvalid_1's rmse: 1.0897\n",
      "[450]\ttraining's rmse: 1.05853\tvalid_1's rmse: 1.07634\n",
      "[500]\ttraining's rmse: 1.04331\tvalid_1's rmse: 1.06581\n"
     ]
    }
   ],
   "source": [
    "# train the LightGBM model \n",
    "lgb_model = lgb.train(params=params,\n",
    "                      train_set=dtrain,\n",
    "                      num_boost_round=500,\n",
    "                      valid_sets=(dtrain, dvalid),\n",
    "                      verbose_eval=50)"
   ]
  },
  {
   "cell_type": "code",
   "execution_count": 7,
   "id": "3a80921e",
   "metadata": {},
   "outputs": [],
   "source": [
    "# get the predictions for the validation data\n",
    "Y_pred = lgb_model.predict(X_valid).clip(0, 20)"
   ]
  },
  {
   "cell_type": "code",
   "execution_count": 8,
   "id": "faffbb51",
   "metadata": {},
   "outputs": [
    {
     "name": "stdout",
     "output_type": "stream",
     "text": [
      "LGBMModel RMSE = 1.0658141086490702\n"
     ]
    }
   ],
   "source": [
    "# RMSE metric for the predicted and actual data\n",
    "print('LGBMModel RMSE =', mean_squared_error(Y_valid, Y_pred,squared=False))"
   ]
  },
  {
   "cell_type": "code",
   "execution_count": 9,
   "id": "a7c82927",
   "metadata": {
    "scrolled": false
   },
   "outputs": [
    {
     "data": {
      "text/plain": [
       "<AxesSubplot:title={'center':'Feature importance'}, xlabel='Feature importance', ylabel='Features'>"
      ]
     },
     "execution_count": 9,
     "metadata": {},
     "output_type": "execute_result"
    },
    {
     "data": {
      "image/png": "[encoded data removed]",
      "text/plain": [
       "<Figure size 720x1008 with 1 Axes>"
      ]
     },
     "metadata": {
      "needs_background": "light"
     },
     "output_type": "display_data"
    }
   ],
   "source": [
    "# importance of each feature plotted\n",
    "fig, ax = plt.subplots(1,1,figsize=(10,14))\n",
    "lgb.plot_importance(booster=lgb_model, ax=ax)"
   ]
  },
  {
   "cell_type": "markdown",
   "id": "539fb1aa",
   "metadata": {},
   "source": [
    "#### date_shop_cat_avg_item_cnt - Mean no. of items sold per month for each month and shop_id and item_category_id has the highest f-score. While city code has the lowest f-score"
   ]
  },
  {
   "cell_type": "code",
   "execution_count": 10,
   "id": "7e21fd98",
   "metadata": {},
   "outputs": [
    {
     "data": {
      "text/plain": [
       "['lgb_model.joblib']"
      ]
     },
     "execution_count": 10,
     "metadata": {},
     "output_type": "execute_result"
    }
   ],
   "source": [
    "# Model saved\n",
    "filename = \"lgb_model.joblib\"\n",
    "joblib.dump(lgb_model, filename)"
   ]
  }
 ],
 "metadata": {
  "kernelspec": {
   "display_name": "Python 3 (ipykernel)",
   "language": "python",
   "name": "python3"
  },
  "language_info": {
   "codemirror_mode": {
    "name": "ipython",
    "version": 3
   },
   "file_extension": ".py",
   "mimetype": "text/x-python",
   "name": "python",
   "nbconvert_exporter": "python",
   "pygments_lexer": "ipython3",
   "version": "3.8.10"
  }
 },
 "nbformat": 4,
 "nbformat_minor": 5
}
