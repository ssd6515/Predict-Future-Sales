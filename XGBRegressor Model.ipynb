{
 "cells": [
  {
   "cell_type": "markdown",
   "id": "2260fa75",
   "metadata": {},
   "source": [
    "# XGBRegressor Model"
   ]
  },
  {
   "cell_type": "code",
   "execution_count": 1,
   "id": "8ada5a28",
   "metadata": {
    "scrolled": false
   },
   "outputs": [],
   "source": [
    "#imported python packages\n",
    "import numpy as np\n",
    "import pandas as pd\n",
    "from math import sqrt\n",
    "\n",
    "from sklearn.preprocessing import LabelEncoder\n",
    "\n",
    "import seaborn as sns\n",
    "import matplotlib.pyplot as plt\n",
    "%matplotlib inline\n",
    "\n",
    "from xgboost import XGBRegressor\n",
    "from xgboost import plot_importance\n",
    "import lightgbm as lgb\n",
    "from sklearn.metrics import roc_curve, auc\n",
    "from sklearn.metrics import mean_squared_error\n",
    "\n",
    "import time\n",
    "import pickle\n",
    "import joblib"
   ]
  },
  {
   "cell_type": "code",
   "execution_count": 2,
   "id": "e73d48a8",
   "metadata": {
    "scrolled": false
   },
   "outputs": [
    {
     "name": "stdout",
     "output_type": "stream",
     "text": [
      "<class 'pandas.core.frame.DataFrame'>\n",
      "RangeIndex: 3150047 entries, 0 to 3150046\n",
      "Data columns (total 28 columns):\n",
      " #   Column                          Dtype  \n",
      "---  ------                          -----  \n",
      " 0   date_block_num                  int64  \n",
      " 1   shop_id                         int64  \n",
      " 2   item_id                         int64  \n",
      " 3   item_price                      float64\n",
      " 4   item_cnt_day                    float64\n",
      " 5   revenue                         float64\n",
      " 6   item_cnt_month                  float64\n",
      " 7   city_code                       int64  \n",
      " 8   item_category_id                int64  \n",
      " 9   type_code                       int64  \n",
      " 10  subtype_code                    int64  \n",
      " 11  date_avg_item_cnt               float64\n",
      " 12  date_item_avg_item_cnt          float64\n",
      " 13  date_shop_avg_item_cnt          float64\n",
      " 14  date_cat_avg_item_cnt           float64\n",
      " 15  date_shop_cat_avg_item_cnt      float64\n",
      " 16  date_shop_type_avg_item_cnt     float64\n",
      " 17  date_shop_subtype_avg_item_cnt  float64\n",
      " 18  date_city_avg_item_cnt          float64\n",
      " 19  date_item_city_avg_item_cnt     float64\n",
      " 20  date_type_avg_item_cnt          float64\n",
      " 21  date_subtype_avg_item_cnt       float64\n",
      " 22  item_avg_item_price             float64\n",
      " 23  date_item_avg_item_price        float64\n",
      " 24  date_shop_revenue               float64\n",
      " 25  shop_avg_revenue                float64\n",
      " 26  delta_revenue                   float64\n",
      " 27  month                           int64  \n",
      "dtypes: float64(20), int64(8)\n",
      "memory usage: 672.9 MB\n"
     ]
    },
    {
     "data": {
      "text/html": [
       "<div>\n",
       "<style scoped>\n",
       "    .dataframe tbody tr th:only-of-type {\n",
       "        vertical-align: middle;\n",
       "    }\n",
       "\n",
       "    .dataframe tbody tr th {\n",
       "        vertical-align: top;\n",
       "    }\n",
       "\n",
       "    .dataframe thead th {\n",
       "        text-align: right;\n",
       "    }\n",
       "</style>\n",
       "<table border=\"1\" class=\"dataframe\">\n",
       "  <thead>\n",
       "    <tr style=\"text-align: right;\">\n",
       "      <th></th>\n",
       "      <th>date_block_num</th>\n",
       "      <th>shop_id</th>\n",
       "      <th>item_id</th>\n",
       "      <th>item_price</th>\n",
       "      <th>item_cnt_day</th>\n",
       "      <th>revenue</th>\n",
       "      <th>item_cnt_month</th>\n",
       "      <th>city_code</th>\n",
       "      <th>item_category_id</th>\n",
       "      <th>type_code</th>\n",
       "      <th>...</th>\n",
       "      <th>date_city_avg_item_cnt</th>\n",
       "      <th>date_item_city_avg_item_cnt</th>\n",
       "      <th>date_type_avg_item_cnt</th>\n",
       "      <th>date_subtype_avg_item_cnt</th>\n",
       "      <th>item_avg_item_price</th>\n",
       "      <th>date_item_avg_item_price</th>\n",
       "      <th>date_shop_revenue</th>\n",
       "      <th>shop_avg_revenue</th>\n",
       "      <th>delta_revenue</th>\n",
       "      <th>month</th>\n",
       "    </tr>\n",
       "  </thead>\n",
       "  <tbody>\n",
       "    <tr>\n",
       "      <th>0</th>\n",
       "      <td>0</td>\n",
       "      <td>59</td>\n",
       "      <td>22154</td>\n",
       "      <td>999.00</td>\n",
       "      <td>1.0</td>\n",
       "      <td>999.00</td>\n",
       "      <td>1.0</td>\n",
       "      <td>31</td>\n",
       "      <td>37</td>\n",
       "      <td>11</td>\n",
       "      <td>...</td>\n",
       "      <td>3.836</td>\n",
       "      <td>1.0</td>\n",
       "      <td>3.697</td>\n",
       "      <td>2.463</td>\n",
       "      <td>410.5</td>\n",
       "      <td>999.0</td>\n",
       "      <td>1633431.0</td>\n",
       "      <td>1292188.0</td>\n",
       "      <td>0.2642</td>\n",
       "      <td>0</td>\n",
       "    </tr>\n",
       "    <tr>\n",
       "      <th>1</th>\n",
       "      <td>0</td>\n",
       "      <td>25</td>\n",
       "      <td>2552</td>\n",
       "      <td>899.00</td>\n",
       "      <td>1.0</td>\n",
       "      <td>899.00</td>\n",
       "      <td>0.0</td>\n",
       "      <td>14</td>\n",
       "      <td>58</td>\n",
       "      <td>13</td>\n",
       "      <td>...</td>\n",
       "      <td>5.152</td>\n",
       "      <td>0.0</td>\n",
       "      <td>2.076</td>\n",
       "      <td>1.253</td>\n",
       "      <td>938.0</td>\n",
       "      <td>899.0</td>\n",
       "      <td>5376478.0</td>\n",
       "      <td>6185159.0</td>\n",
       "      <td>-0.1307</td>\n",
       "      <td>0</td>\n",
       "    </tr>\n",
       "    <tr>\n",
       "      <th>2</th>\n",
       "      <td>0</td>\n",
       "      <td>25</td>\n",
       "      <td>2552</td>\n",
       "      <td>899.00</td>\n",
       "      <td>-1.0</td>\n",
       "      <td>-899.00</td>\n",
       "      <td>0.0</td>\n",
       "      <td>14</td>\n",
       "      <td>58</td>\n",
       "      <td>13</td>\n",
       "      <td>...</td>\n",
       "      <td>5.152</td>\n",
       "      <td>0.0</td>\n",
       "      <td>2.076</td>\n",
       "      <td>1.253</td>\n",
       "      <td>938.0</td>\n",
       "      <td>899.0</td>\n",
       "      <td>5376478.0</td>\n",
       "      <td>6185159.0</td>\n",
       "      <td>-0.1307</td>\n",
       "      <td>0</td>\n",
       "    </tr>\n",
       "    <tr>\n",
       "      <th>3</th>\n",
       "      <td>0</td>\n",
       "      <td>25</td>\n",
       "      <td>2554</td>\n",
       "      <td>1709.05</td>\n",
       "      <td>1.0</td>\n",
       "      <td>1709.05</td>\n",
       "      <td>1.0</td>\n",
       "      <td>14</td>\n",
       "      <td>58</td>\n",
       "      <td>13</td>\n",
       "      <td>...</td>\n",
       "      <td>5.152</td>\n",
       "      <td>1.0</td>\n",
       "      <td>2.076</td>\n",
       "      <td>1.253</td>\n",
       "      <td>1709.0</td>\n",
       "      <td>1709.0</td>\n",
       "      <td>5376478.0</td>\n",
       "      <td>6185159.0</td>\n",
       "      <td>-0.1307</td>\n",
       "      <td>0</td>\n",
       "    </tr>\n",
       "    <tr>\n",
       "      <th>4</th>\n",
       "      <td>0</td>\n",
       "      <td>25</td>\n",
       "      <td>2555</td>\n",
       "      <td>1099.00</td>\n",
       "      <td>1.0</td>\n",
       "      <td>1099.00</td>\n",
       "      <td>1.0</td>\n",
       "      <td>14</td>\n",
       "      <td>56</td>\n",
       "      <td>13</td>\n",
       "      <td>...</td>\n",
       "      <td>5.152</td>\n",
       "      <td>1.0</td>\n",
       "      <td>2.076</td>\n",
       "      <td>1.226</td>\n",
       "      <td>1123.0</td>\n",
       "      <td>1099.0</td>\n",
       "      <td>5376478.0</td>\n",
       "      <td>6185159.0</td>\n",
       "      <td>-0.1307</td>\n",
       "      <td>0</td>\n",
       "    </tr>\n",
       "  </tbody>\n",
       "</table>\n",
       "<p>5 rows × 28 columns</p>\n",
       "</div>"
      ],
      "text/plain": [
       "   date_block_num  shop_id  item_id  item_price  item_cnt_day  revenue  \\\n",
       "0               0       59    22154      999.00           1.0   999.00   \n",
       "1               0       25     2552      899.00           1.0   899.00   \n",
       "2               0       25     2552      899.00          -1.0  -899.00   \n",
       "3               0       25     2554     1709.05           1.0  1709.05   \n",
       "4               0       25     2555     1099.00           1.0  1099.00   \n",
       "\n",
       "   item_cnt_month  city_code  item_category_id  type_code  ...  \\\n",
       "0             1.0         31                37         11  ...   \n",
       "1             0.0         14                58         13  ...   \n",
       "2             0.0         14                58         13  ...   \n",
       "3             1.0         14                58         13  ...   \n",
       "4             1.0         14                56         13  ...   \n",
       "\n",
       "   date_city_avg_item_cnt  date_item_city_avg_item_cnt  \\\n",
       "0                   3.836                          1.0   \n",
       "1                   5.152                          0.0   \n",
       "2                   5.152                          0.0   \n",
       "3                   5.152                          1.0   \n",
       "4                   5.152                          1.0   \n",
       "\n",
       "   date_type_avg_item_cnt  date_subtype_avg_item_cnt  item_avg_item_price  \\\n",
       "0                   3.697                      2.463                410.5   \n",
       "1                   2.076                      1.253                938.0   \n",
       "2                   2.076                      1.253                938.0   \n",
       "3                   2.076                      1.253               1709.0   \n",
       "4                   2.076                      1.226               1123.0   \n",
       "\n",
       "   date_item_avg_item_price  date_shop_revenue  shop_avg_revenue  \\\n",
       "0                     999.0          1633431.0         1292188.0   \n",
       "1                     899.0          5376478.0         6185159.0   \n",
       "2                     899.0          5376478.0         6185159.0   \n",
       "3                    1709.0          5376478.0         6185159.0   \n",
       "4                    1099.0          5376478.0         6185159.0   \n",
       "\n",
       "   delta_revenue  month  \n",
       "0         0.2642      0  \n",
       "1        -0.1307      0  \n",
       "2        -0.1307      0  \n",
       "3        -0.1307      0  \n",
       "4        -0.1307      0  \n",
       "\n",
       "[5 rows x 28 columns]"
      ]
     },
     "execution_count": 2,
     "metadata": {},
     "output_type": "execute_result"
    }
   ],
   "source": [
    "# imported training dataset\n",
    "train_df = pd.read_csv('train.csv')\n",
    "train_df.info()\n",
    "train_df.head()"
   ]
  },
  {
   "cell_type": "code",
   "execution_count": 3,
   "id": "f1070af2",
   "metadata": {},
   "outputs": [],
   "source": [
    "# dropped item_id as decided in vizualization notebook\n",
    "train_df.drop(['item_id'],axis=1,inplace=True)"
   ]
  },
  {
   "cell_type": "code",
   "execution_count": 4,
   "id": "63d46801",
   "metadata": {},
   "outputs": [],
   "source": [
    "# training, validation, and test dataset is created.\n",
    "X_train_df = train_df[train_df.date_block_num < 33].drop(['item_cnt_month'], axis=1)\n",
    "Y_train_df = train_df[train_df.date_block_num < 33]['item_cnt_month']\n",
    "X_valid = train_df[train_df.date_block_num == 33].drop(['item_cnt_month'], axis=1)\n",
    "Y_valid = train_df[train_df.date_block_num == 33]['item_cnt_month']\n",
    "X_test = train_df[train_df.date_block_num == 34].drop(['item_cnt_month'], axis=1)"
   ]
  },
  {
   "cell_type": "markdown",
   "id": "d8f4d183",
   "metadata": {},
   "source": [
    "### Attempt to create a XGB model after understanding the data"
   ]
  },
  {
   "cell_type": "code",
   "execution_count": 5,
   "id": "d8cb9c39",
   "metadata": {},
   "outputs": [],
   "source": [
    "# instantiated XGB model\n",
    "model = XGBRegressor(\n",
    "    learning_rate=0.05,\n",
    "    max_depth=16,\n",
    "    n_estimators=200,\n",
    "    seed=42,\n",
    "    eval_metric=\"rmse\", \n",
    "    early_stopping_rounds = 10)"
   ]
  },
  {
   "cell_type": "code",
   "execution_count": 6,
   "id": "ffa30980",
   "metadata": {
    "scrolled": false
   },
   "outputs": [
    {
     "name": "stdout",
     "output_type": "stream",
     "text": [
      "[0]\tvalidation_0-rmse:6.42219\tvalidation_1-rmse:6.01848\n",
      "[10]\tvalidation_0-rmse:3.91944\tvalidation_1-rmse:3.75985\n",
      "[20]\tvalidation_0-rmse:2.43544\tvalidation_1-rmse:2.46850\n",
      "[30]\tvalidation_0-rmse:1.56570\tvalidation_1-rmse:1.76755\n",
      "[40]\tvalidation_0-rmse:1.06814\tvalidation_1-rmse:1.41615\n",
      "[50]\tvalidation_0-rmse:0.79460\tvalidation_1-rmse:1.25261\n",
      "[60]\tvalidation_0-rmse:0.64344\tvalidation_1-rmse:1.17998\n",
      "[70]\tvalidation_0-rmse:0.56010\tvalidation_1-rmse:1.14600\n",
      "[80]\tvalidation_0-rmse:0.51245\tvalidation_1-rmse:1.12999\n",
      "[90]\tvalidation_0-rmse:0.48417\tvalidation_1-rmse:1.12073\n",
      "[100]\tvalidation_0-rmse:0.46536\tvalidation_1-rmse:1.11650\n",
      "[110]\tvalidation_0-rmse:0.45035\tvalidation_1-rmse:1.11428\n",
      "[120]\tvalidation_0-rmse:0.44020\tvalidation_1-rmse:1.11229\n",
      "[130]\tvalidation_0-rmse:0.43023\tvalidation_1-rmse:1.11271\n"
     ]
    },
    {
     "data": {
      "text/html": [
       "<style>#sk-container-id-1 {color: black;background-color: white;}#sk-container-id-1 pre{padding: 0;}#sk-container-id-1 div.sk-toggleable {background-color: white;}#sk-container-id-1 label.sk-toggleable__label {cursor: pointer;display: block;width: 100%;margin-bottom: 0;padding: 0.3em;box-sizing: border-box;text-align: center;}#sk-container-id-1 label.sk-toggleable__label-arrow:before {content: \"▸\";float: left;margin-right: 0.25em;color: #696969;}#sk-container-id-1 label.sk-toggleable__label-arrow:hover:before {color: black;}#sk-container-id-1 div.sk-estimator:hover label.sk-toggleable__label-arrow:before {color: black;}#sk-container-id-1 div.sk-toggleable__content {max-height: 0;max-width: 0;overflow: hidden;text-align: left;background-color: #f0f8ff;}#sk-container-id-1 div.sk-toggleable__content pre {margin: 0.2em;color: black;border-radius: 0.25em;background-color: #f0f8ff;}#sk-container-id-1 input.sk-toggleable__control:checked~div.sk-toggleable__content {max-height: 200px;max-width: 100%;overflow: auto;}#sk-container-id-1 input.sk-toggleable__control:checked~label.sk-toggleable__label-arrow:before {content: \"▾\";}#sk-container-id-1 div.sk-estimator input.sk-toggleable__control:checked~label.sk-toggleable__label {background-color: #d4ebff;}#sk-container-id-1 div.sk-label input.sk-toggleable__control:checked~label.sk-toggleable__label {background-color: #d4ebff;}#sk-container-id-1 input.sk-hidden--visually {border: 0;clip: rect(1px 1px 1px 1px);clip: rect(1px, 1px, 1px, 1px);height: 1px;margin: -1px;overflow: hidden;padding: 0;position: absolute;width: 1px;}#sk-container-id-1 div.sk-estimator {font-family: monospace;background-color: #f0f8ff;border: 1px dotted black;border-radius: 0.25em;box-sizing: border-box;margin-bottom: 0.5em;}#sk-container-id-1 div.sk-estimator:hover {background-color: #d4ebff;}#sk-container-id-1 div.sk-parallel-item::after {content: \"\";width: 100%;border-bottom: 1px solid gray;flex-grow: 1;}#sk-container-id-1 div.sk-label:hover label.sk-toggleable__label {background-color: #d4ebff;}#sk-container-id-1 div.sk-serial::before {content: \"\";position: absolute;border-left: 1px solid gray;box-sizing: border-box;top: 0;bottom: 0;left: 50%;z-index: 0;}#sk-container-id-1 div.sk-serial {display: flex;flex-direction: column;align-items: center;background-color: white;padding-right: 0.2em;padding-left: 0.2em;position: relative;}#sk-container-id-1 div.sk-item {position: relative;z-index: 1;}#sk-container-id-1 div.sk-parallel {display: flex;align-items: stretch;justify-content: center;background-color: white;position: relative;}#sk-container-id-1 div.sk-item::before, #sk-container-id-1 div.sk-parallel-item::before {content: \"\";position: absolute;border-left: 1px solid gray;box-sizing: border-box;top: 0;bottom: 0;left: 50%;z-index: -1;}#sk-container-id-1 div.sk-parallel-item {display: flex;flex-direction: column;z-index: 1;position: relative;background-color: white;}#sk-container-id-1 div.sk-parallel-item:first-child::after {align-self: flex-end;width: 50%;}#sk-container-id-1 div.sk-parallel-item:last-child::after {align-self: flex-start;width: 50%;}#sk-container-id-1 div.sk-parallel-item:only-child::after {width: 0;}#sk-container-id-1 div.sk-dashed-wrapped {border: 1px dashed gray;margin: 0 0.4em 0.5em 0.4em;box-sizing: border-box;padding-bottom: 0.4em;background-color: white;}#sk-container-id-1 div.sk-label label {font-family: monospace;font-weight: bold;display: inline-block;line-height: 1.2em;}#sk-container-id-1 div.sk-label-container {text-align: center;}#sk-container-id-1 div.sk-container {/* jupyter's `normalize.less` sets `[hidden] { display: none; }` but bootstrap.min.css set `[hidden] { display: none !important; }` so we also need the `!important` here to be able to override the default hidden behavior on the sphinx rendered scikit-learn.org. See: https://github.com/scikit-learn/scikit-learn/issues/21755 */display: inline-block !important;position: relative;}#sk-container-id-1 div.sk-text-repr-fallback {display: none;}</style><div id=\"sk-container-id-1\" class=\"sk-top-container\"><div class=\"sk-text-repr-fallback\"><pre>XGBRegressor(base_score=0.5, booster=&#x27;gbtree&#x27;, callbacks=None,\n",
       "             colsample_bylevel=1, colsample_bynode=1, colsample_bytree=1,\n",
       "             early_stopping_rounds=10, enable_categorical=False,\n",
       "             eval_metric=&#x27;rmse&#x27;, feature_types=None, gamma=0, gpu_id=-1,\n",
       "             grow_policy=&#x27;depthwise&#x27;, importance_type=None,\n",
       "             interaction_constraints=&#x27;&#x27;, learning_rate=0.05, max_bin=256,\n",
       "             max_cat_threshold=64, max_cat_to_onehot=4, max_delta_step=0,\n",
       "             max_depth=16, max_leaves=0, min_child_weight=1, missing=nan,\n",
       "             monotone_constraints=&#x27;()&#x27;, n_estimators=200, n_jobs=0,\n",
       "             num_parallel_tree=1, predictor=&#x27;auto&#x27;, random_state=42, ...)</pre><b>In a Jupyter environment, please rerun this cell to show the HTML representation or trust the notebook. <br />On GitHub, the HTML representation is unable to render, please try loading this page with nbviewer.org.</b></div><div class=\"sk-container\" hidden><div class=\"sk-item\"><div class=\"sk-estimator sk-toggleable\"><input class=\"sk-toggleable__control sk-hidden--visually\" id=\"sk-estimator-id-1\" type=\"checkbox\" checked><label for=\"sk-estimator-id-1\" class=\"sk-toggleable__label sk-toggleable__label-arrow\">XGBRegressor</label><div class=\"sk-toggleable__content\"><pre>XGBRegressor(base_score=0.5, booster=&#x27;gbtree&#x27;, callbacks=None,\n",
       "             colsample_bylevel=1, colsample_bynode=1, colsample_bytree=1,\n",
       "             early_stopping_rounds=10, enable_categorical=False,\n",
       "             eval_metric=&#x27;rmse&#x27;, feature_types=None, gamma=0, gpu_id=-1,\n",
       "             grow_policy=&#x27;depthwise&#x27;, importance_type=None,\n",
       "             interaction_constraints=&#x27;&#x27;, learning_rate=0.05, max_bin=256,\n",
       "             max_cat_threshold=64, max_cat_to_onehot=4, max_delta_step=0,\n",
       "             max_depth=16, max_leaves=0, min_child_weight=1, missing=nan,\n",
       "             monotone_constraints=&#x27;()&#x27;, n_estimators=200, n_jobs=0,\n",
       "             num_parallel_tree=1, predictor=&#x27;auto&#x27;, random_state=42, ...)</pre></div></div></div></div></div>"
      ],
      "text/plain": [
       "XGBRegressor(base_score=0.5, booster='gbtree', callbacks=None,\n",
       "             colsample_bylevel=1, colsample_bynode=1, colsample_bytree=1,\n",
       "             early_stopping_rounds=10, enable_categorical=False,\n",
       "             eval_metric='rmse', feature_types=None, gamma=0, gpu_id=-1,\n",
       "             grow_policy='depthwise', importance_type=None,\n",
       "             interaction_constraints='', learning_rate=0.05, max_bin=256,\n",
       "             max_cat_threshold=64, max_cat_to_onehot=4, max_delta_step=0,\n",
       "             max_depth=16, max_leaves=0, min_child_weight=1, missing=nan,\n",
       "             monotone_constraints='()', n_estimators=200, n_jobs=0,\n",
       "             num_parallel_tree=1, predictor='auto', random_state=42, ...)"
      ]
     },
     "execution_count": 6,
     "metadata": {},
     "output_type": "execute_result"
    }
   ],
   "source": [
    "# train the model \n",
    "model.fit(\n",
    "    X_train_df, \n",
    "    Y_train_df, \n",
    "    eval_set=[(X_train_df, Y_train_df), (X_valid, Y_valid)], \n",
    "    verbose=10)"
   ]
  },
  {
   "cell_type": "code",
   "execution_count": 7,
   "id": "86b4abc2",
   "metadata": {},
   "outputs": [],
   "source": [
    "# get the predictions for the validation data\n",
    "Y_pred = model.predict(X_valid).clip(0, 20)"
   ]
  },
  {
   "cell_type": "code",
   "execution_count": 8,
   "id": "c5f6ab70",
   "metadata": {
    "scrolled": true
   },
   "outputs": [
    {
     "data": {
      "text/plain": [
       "array([0.999008 , 3.042239 , 1.5928766, ..., 1.7632958, 1.000315 ,\n",
       "       0.9998179], dtype=float32)"
      ]
     },
     "execution_count": 8,
     "metadata": {},
     "output_type": "execute_result"
    }
   ],
   "source": [
    "Y_pred"
   ]
  },
  {
   "cell_type": "code",
   "execution_count": 9,
   "id": "c12e6869",
   "metadata": {
    "scrolled": true
   },
   "outputs": [
    {
     "name": "stdout",
     "output_type": "stream",
     "text": [
      "XGBoost RMSE = 1.1122946146613604\n"
     ]
    }
   ],
   "source": [
    "# RMSE metric for the predicted and actual data\n",
    "print('XGBoost RMSE =', mean_squared_error(Y_valid,Y_pred, squared=False))"
   ]
  },
  {
   "cell_type": "code",
   "execution_count": 10,
   "id": "46874457",
   "metadata": {
    "scrolled": false
   },
   "outputs": [
    {
     "data": {
      "text/plain": [
       "<AxesSubplot:title={'center':'Feature importance'}, xlabel='F score', ylabel='Features'>"
      ]
     },
     "execution_count": 10,
     "metadata": {},
     "output_type": "execute_result"
    },
    {
     "data": {
      "image/png": "[encoded data removed]",
      "text/plain": [
       "<Figure size 720x1008 with 1 Axes>"
      ]
     },
     "metadata": {
      "needs_background": "light"
     },
     "output_type": "display_data"
    }
   ],
   "source": [
    "# importance of each feature plotted\n",
    "fig, ax = plt.subplots(1,1,figsize=(10,14))\n",
    "plot_importance(booster=model, ax=ax)"
   ]
  },
  {
   "cell_type": "markdown",
   "id": "69e00927",
   "metadata": {},
   "source": [
    "#### date_shop_avg_item_cnt - Mean no. of items sold per month for each month and item_category_id has the highest f-score. While type code has the lowest f-score"
   ]
  },
  {
   "cell_type": "code",
   "execution_count": 13,
   "id": "a02e9467",
   "metadata": {},
   "outputs": [
    {
     "data": {
      "text/plain": [
       "['xgb_model.joblib']"
      ]
     },
     "execution_count": 13,
     "metadata": {},
     "output_type": "execute_result"
    }
   ],
   "source": [
    "# Model saved\n",
    "filename = \"xgb_model.joblib\"\n",
    "joblib.dump(model, filename)"
   ]
  }
 ],
 "metadata": {
  "kernelspec": {
   "display_name": "Python 3 (ipykernel)",
   "language": "python",
   "name": "python3"
  },
  "language_info": {
   "codemirror_mode": {
    "name": "ipython",
    "version": 3
   },
   "file_extension": ".py",
   "mimetype": "text/x-python",
   "name": "python",
   "nbconvert_exporter": "python",
   "pygments_lexer": "ipython3",
   "version": "3.8.10"
  }
 },
 "nbformat": 4,
 "nbformat_minor": 5
}
